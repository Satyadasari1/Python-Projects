{
  "nbformat": 4,
  "nbformat_minor": 0,
  "metadata": {
    "colab": {
      "provenance": [],
      "authorship_tag": "ABX9TyM/seJ9lHmAQvjAVRceY4FL",
      "include_colab_link": true
    },
    "kernelspec": {
      "name": "python3",
      "display_name": "Python 3"
    },
    "language_info": {
      "name": "python"
    }
  },
  "cells": [
    {
      "cell_type": "markdown",
      "metadata": {
        "id": "view-in-github",
        "colab_type": "text"
      },
      "source": [
        "<a href=\"https://colab.research.google.com/github/Satyadasari1/Python-Projects/blob/main/Early-Detection-of-Diabetes-Using-AI.ipynb\" target=\"_parent\"><img src=\"https://colab.research.google.com/assets/colab-badge.svg\" alt=\"Open In Colab\"/></a>"
      ]
    },
    {
      "cell_type": "code",
      "source": [
        "# Early Detection of Diabetes Using Logistic Regression\n",
        "\n",
        "import pandas as pd\n",
        "import numpy as np\n",
        "import matplotlib.pyplot as plt\n",
        "import seaborn as sns\n",
        "\n",
        "from sklearn.model_selection import train_test_split\n",
        "from sklearn.linear_model import LogisticRegression\n",
        "from sklearn.metrics import accuracy_score, confusion_matrix, classification_report\n",
        "\n",
        "import joblib\n",
        "\n",
        "def main():\n",
        "    # Load dataset\n",
        "    url = \"https://raw.githubusercontent.com/jbrownlee/Datasets/master/pima-indians-diabetes.data.csv\"\n",
        "    columns = ['Pregnancies', 'Glucose', 'BloodPressure', 'SkinThickness', 'Insulin',\n",
        "               'BMI', 'DiabetesPedigreeFunction', 'Age', 'Outcome']\n",
        "\n",
        "    data = pd.read_csv(url, names=columns)\n",
        "\n",
        "    # Replace zeros with NaN for specific columns\n",
        "    zero_not_allowed = ['Glucose', 'BloodPressure', 'SkinThickness', 'Insulin', 'BMI']\n",
        "    for col in zero_not_allowed:\n",
        "        data[col] = data[col].replace(0, np.nan)\n",
        "\n",
        "    # Fill missing values with median (fixed line)\n",
        "    for col in zero_not_allowed:\n",
        "        median = data[col].median()\n",
        "        data[col] = data[col].fillna(median)\n",
        "\n",
        "    # Visualize Glucose distribution by Outcome\n",
        "    plt.figure(figsize=(8,5))\n",
        "    sns.boxplot(x='Outcome', y='Glucose', data=data)\n",
        "    plt.title(\"Glucose Levels by Diabetes Outcome\")\n",
        "    plt.savefig('glucose_distribution.png')  # Save figure\n",
        "    plt.close()\n",
        "\n",
        "    # Prepare data\n",
        "    X = data.drop('Outcome', axis=1)\n",
        "    y = data['Outcome']\n",
        "\n",
        "    # Train-test split\n",
        "    X_train, X_test, y_train, y_test = train_test_split(X, y, test_size=0.2, random_state=42)\n",
        "\n",
        "    # Model training\n",
        "    model = LogisticRegression(max_iter=1000)\n",
        "    model.fit(X_train, y_train)\n",
        "\n",
        "    # Prediction and evaluation\n",
        "    y_pred = model.predict(X_test)\n",
        "    accuracy = accuracy_score(y_test, y_pred)\n",
        "\n",
        "    print(f\"Accuracy: {accuracy:.2f}\")\n",
        "    print(\"Confusion Matrix:\")\n",
        "    print(confusion_matrix(y_test, y_pred))\n",
        "    print(\"Classification Report:\")\n",
        "    print(classification_report(y_test, y_pred))\n",
        "\n",
        "    # Save model\n",
        "    joblib.dump(model, 'diabetes_model.pkl')\n",
        "\n",
        "if __name__ == '__main__':\n",
        "    main()"
      ],
      "metadata": {
        "colab": {
          "base_uri": "https://localhost:8080/"
        },
        "id": "Db3M4V6wViQb",
        "outputId": "691fd8dd-eaeb-4f40-cfe8-dffcdfc3b182"
      },
      "execution_count": 13,
      "outputs": [
        {
          "output_type": "stream",
          "name": "stdout",
          "text": [
            "Accuracy: 0.75\n",
            "Confusion Matrix:\n",
            "[[82 17]\n",
            " [21 34]]\n",
            "Classification Report:\n",
            "              precision    recall  f1-score   support\n",
            "\n",
            "           0       0.80      0.83      0.81        99\n",
            "           1       0.67      0.62      0.64        55\n",
            "\n",
            "    accuracy                           0.75       154\n",
            "   macro avg       0.73      0.72      0.73       154\n",
            "weighted avg       0.75      0.75      0.75       154\n",
            "\n"
          ]
        }
      ]
    }
  ]
}